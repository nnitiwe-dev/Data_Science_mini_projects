{
 "cells": [
  {
   "cell_type": "markdown",
   "metadata": {},
   "source": [
    "# Median & Mode (Estimates of Location)\n",
    "\n",
    "## Definiton\n",
    "*Retrieved from ChatGPT*\n",
    "\n",
    "**Median** refers to the middle number in a set of numbers that have been arranged in numerical order. For example, if you have the numbers 1, 2, 3, 4, and 5, the median would be 3, since it is the middle number in the list.\n",
    "\n",
    "**Mode** is the value that occurs most frequently in a set of data. For example, if the set of data is [1, 2, 3, 3, 4, 4, 4], then the mode is 4, because it occurs the most times.\n",
    "\n",
    "\n",
    "## When-to-use\n",
    "### Median\n",
    "- If the data is skewed\n",
    "- If the data has outliers (because mean is affected by the outliers).\n",
    "\n",
    "#### Mode\n",
    "- It is not always appropriate to use the mode to describe the center of the data, but it can be useful for finding patterns in the data ."
   ]
  },
  {
   "cell_type": "code",
   "execution_count": null,
   "metadata": {},
   "outputs": [],
   "source": []
  }
 ],
 "metadata": {
  "kernelspec": {
   "display_name": "Python 3.8.2 64-bit",
   "language": "python",
   "name": "python3"
  },
  "language_info": {
   "name": "python",
   "version": "3.8.2"
  },
  "orig_nbformat": 4,
  "vscode": {
   "interpreter": {
    "hash": "31f2aee4e71d21fbe5cf8b01ff0e069b9275f58929596ceb00d14d90e3e16cd6"
   }
  }
 },
 "nbformat": 4,
 "nbformat_minor": 2
}
