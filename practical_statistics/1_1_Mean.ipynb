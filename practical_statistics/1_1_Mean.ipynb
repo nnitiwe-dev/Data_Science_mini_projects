{
 "cells": [
  {
   "cell_type": "markdown",
   "metadata": {},
   "source": [
    "# Mean (Estimates of Location)\n",
    "\n",
    "## Definiton\n",
    "*Retrieved from ChatGPT*\n",
    "\n",
    "The average of a set of numbers, calculated by adding all of the numbers together and dividing by the number of numbers in the set. For example, if you have the numbers 3, 7, and 12, the mean would be (3 + 7 + 12) / 3 = 8.\n",
    "\n",
    "## Types of Mean\n",
    "\n",
    "1. Arithmetic Mean\n",
    "2. Geometric Mean\n",
    "3. Harmonic Mean\n",
    "4. Weighted Mean\n",
    "\n",
    "### Arithmetic Mean\n",
    "The arithmetic mean of the numbers 1, 2, and 3 is 2, because (1 + 2 + 3) / 3 = 6 / 3 = 2.\n",
    "\n",
    "### Geometric Mean\n",
    "The geometric mean of the numbers 1, 2, and 3 is the cube root of 1 * 2 * 3, which is 1.8171205928321397.\n",
    "\n",
    "### Harmonic Mean\n",
    "It is less sensitive to large numbers than the arithmetic mean. The harmonic mean of the numbers 1, 2, and 3 is 3/(1/1 + 1/2 + 1/3), which is 1.63.\n",
    "\n",
    "### Weighted Mean\n",
    "If the numbers 1, 2, and 3 each have a weight of 1, the weighted mean would be the same as the arithmetic mean, which is 2.\n",
    "However, if the numbers have different weights, the weighted mean would be different.\n",
    "\n",
    "\n",
    "## When-to-use\n",
    "Mean is considered a good measure of central tendency when the data is  symmetrical.\n",
    "\n",
    "### Check if data is symmetric or Skewed\n",
    "If the **mean** == **median**, then the data is symmetric. If the mean and median are not equal, then the data is skewed.\n",
    "\n",
    "![Skew vs Normal Distribution](https://cdn.analyticsvidhya.com/wp-content/uploads/2020/07/featured_image.jpg)\n",
    "\n",
    "|   |Case   |Arithmetic |Geometric  |Harmonic   |Weighted   |\n",
    "|---    |---    |---    |---    |---    |---    |\n",
    "|1. |When values is significant([1](https://www.quora.com/When-is-it-most-appropriate-to-take-the-arithmetic-mean-vs-geometric-mean-vs-harmonic-mean))| ✔️    |-  |-  |-  |\n",
    "|2. |When product of the values is significant|-    | ✔️  |-  |-  |\n",
    "|3. |When values are rates or ratios|-    |-  |✔️  |-  |\n",
    "|4. |W values are weighted|-    |-  |-  |✔️  |\n"
   ]
  },
  {
   "cell_type": "markdown",
   "metadata": {},
   "source": [
    "## Arithmetic Mean\n",
    "\n",
    "Numpy:"
   ]
  },
  {
   "cell_type": "code",
   "execution_count": null,
   "metadata": {},
   "outputs": [],
   "source": [
    "import numpy as np\n",
    "\n",
    "# 2D array \n",
    "arr = [[14, 17, 12, 33, 44],  \n",
    "       [15, 6, 27, 8, 19], \n",
    "       [23, 2, 54, 1, 4, ]] \n",
    "    \n",
    "# mean of the flattened array \n",
    "print(\"\\nmean of arr, axis = None : \", np.mean(arr)) \n",
    "    \n",
    "# mean along the axis = 0 \n",
    "print(\"\\nmean of arr, axis = 0 : \", np.mean(arr, axis = 0)) \n",
    "   \n",
    "# mean along the axis = 1 \n",
    "print(\"\\nmean of arr, axis = 1 : \", np.mean(arr, axis = 1))"
   ]
  },
  {
   "cell_type": "markdown",
   "metadata": {},
   "source": [
    "Pandas:"
   ]
  },
  {
   "cell_type": "code",
   "execution_count": null,
   "metadata": {},
   "outputs": [],
   "source": [
    "# importing pandas as pd\n",
    "import pandas as pd\n",
    "  \n",
    "# Creating the dataframe \n",
    "df = pd.DataFrame({\"A\":[12, 4, 5, None, 1],\n",
    "                   \"B\":[7, 2, 54, 3, None],\n",
    "                   \"C\":[20, 16, 11, 3, 8],.\n",
    "                   \"D\":[14, 3, None, 2, 6]})\n",
    "  \n",
    "# skip the Na values while finding the mean\n",
    "df.mean(axis = 1, skipna = True)"
   ]
  }
 ],
 "metadata": {
  "kernelspec": {
   "display_name": "Python 3.8.2 64-bit",
   "language": "python",
   "name": "python3"
  },
  "language_info": {
   "name": "python",
   "version": "3.8.2"
  },
  "orig_nbformat": 4,
  "vscode": {
   "interpreter": {
    "hash": "31f2aee4e71d21fbe5cf8b01ff0e069b9275f58929596ceb00d14d90e3e16cd6"
   }
  }
 },
 "nbformat": 4,
 "nbformat_minor": 2
}
